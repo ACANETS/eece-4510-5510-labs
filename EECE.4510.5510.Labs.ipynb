{
 "cells": [
  {
   "cell_type": "markdown",
   "id": "16c34bb8-6bc5-44fd-b023-af4e670f66a4",
   "metadata": {
    "tags": []
   },
   "source": [
    "# Lab Assignments for EECE.4510/5510 Heterogeneous Computing"
   ]
  },
  {
   "cell_type": "markdown",
   "id": "03a54bc8-725c-4c6f-beb8-4946337034b8",
   "metadata": {},
   "source": [
    "This course, EECE.4510/5510, covers the fundamentals of Heterogenous Computing and practical programming skills on SYCL/DPC++ programming in oneAPI framework. SYCL Programming for Heterogenous Computing can target different types of accelerator devices like CPUs, GPUs and FPGAs across any vendor. We will use this set of lab assignments to help you learn the concepts, tools and methodology for developing heterogeneous computing applications. The lab assignments are to be completed on Intel Developer Cloud, to which Intel Corporation generously provides free access for the students taking this course at the University of Massachusetts Lowell.\n",
    "\n",
    "- Motivation\n",
    "- Learning Objectives\n",
    "- Target Audience\n",
    "- Prerequisites\n",
    "- Course Syllabus\n",
    "- Resources"
   ]
  },
  {
   "cell_type": "markdown",
   "id": "c75e3942-ab3c-4a78-9b55-ad0150da0adc",
   "metadata": {},
   "source": [
    "## Motivation\n",
    "\n",
    "- SYCL is open standard, cross-architecture and cross-vendor programming solution to High Performance Computing.\n",
    "- SYCL enables heterogenous computing and code reuse across architectures (CPUs, GPUs, FPGAs) and across vendors.\n",
    "- SYCL breaks the Chains of Proprietary Lock-in and gives freedom to make your best choice, choose the best accelerated technology the software doesn’t decide for you.\n",
    "- oneAPI aims to simlify software development and accelerate performance across a wide range of computing architectures, including CPUs, GPUs, FPGAs, and other accelerators.\n",
    "- DPC++ extends the standard C++ language with features that enable developers to write code that can execute in parallel on various types of hardware."
   ]
  },
  {
   "cell_type": "markdown",
   "id": "b1644f30-3574-4b80-b89f-22899186e2ec",
   "metadata": {},
   "source": [
    "## Learning Objectives\n",
    "\n",
    "At the end of this course you will be able to:\n",
    "\n",
    "- Understand the challenges of Heterogenous Computing.\n",
    "- Write a SYCL program that offloads computation to accelerator devices like CPUs, GPUs or FPGAs from any vendor. \n",
    "- Understand how a SYCL program manages the data and the implications of various data management schemes.\n",
    "- Understand how a SYCL program express parallelism using kernels and the scheduling of kernels.\n",
    "- Understand how to break up a problem into bite-size chunks and group work-items to improve the performance of algorithms.\n",
    "- Perform analysis and profile the SYCL code using Intel oneAPI tools to find performance bottle necks. "
   ]
  },
  {
   "cell_type": "markdown",
   "id": "51b34834-8bc7-4ea8-a328-2948f3d3dd76",
   "metadata": {},
   "source": [
    "## Target Audience\n",
    "\n",
    "\n",
    "Senior undergrad and graduate students\n",
    "- Computer Science\n",
    "- Engineering\n",
    "- Science and Mathematics\n"
   ]
  },
  {
   "cell_type": "markdown",
   "id": "a81d0b88-380f-4561-bac1-696c2d418de1",
   "metadata": {
    "jp-MarkdownHeadingCollapsed": true,
    "tags": []
   },
   "source": [
    "## Prerequisites\n",
    "- C++ Programming"
   ]
  },
  {
   "cell_type": "markdown",
   "id": "5b766aff-d5a4-4d1d-abef-b5660b6b5502",
   "metadata": {
    "jp-MarkdownHeadingCollapsed": true,
    "tags": []
   },
   "source": [
    "## Lab Assignments\n",
    "\n",
    "- 2 Un-graded Lab Exercises\n",
    "- 4 Graded Lab Assignments\n",
    "- 7 Advanced Lab Exercises*\n"
   ]
  },
  {
   "cell_type": "markdown",
   "id": "e9f63acf",
   "metadata": {},
   "source": [
    "\n",
    "\n",
    "\n",
    "| Labs | Description | Graded? |\n",
    "|---|---|---|\n",
    "|[Lab 0.a: Introduction to JupyterLab and Notebooks](00_Introduction_to_Jupyter/Introduction_to_Jupyter.ipynb)| + Introduction to JupyterLab and Notebooks | No |\n",
    "|[Lab 0.b: Challenges in Heterogenous Computing](01_oneAPI_Intro/oneAPI_Intro.ipynb)| + Introduction and Motivation for SYCL.<br>+ SYCL __Hello World__<br>+ Compiling SYCL and __DevCloud__ Usage | No |\n",
    "|[Lab 1: SYCL Program Structure](02_SYCL_Program_Structure/SYCL_Program_Structure.ipynb)| + __SYCL Classes__ - device, device_selector, queue, basic kernels and ND-Range kernels, Buffers-Accessor memory model<br>+ SYCL __Code Anatomy__<br>+ Implicit __Dependency__ with Accessors, __Synchronization__ with Host Accessor and Buffer Destruction<br>+ Creating __Custom__ Device Selector<br>+ ___Lab Exercise___: Vector Increment to Vector Add | Yes |\n",
    "|[Lab 2: SYCL Unified Shared Memory](03_SYCL_Unified_Shared_Memory/Unified_Shared_Memory.ipynb)|+ What is Unified Shared Memory(USM) and Motivation<br>+ __Implicit and Explicit USM__ code example<br>+ Handling __data dependency__ using depends_on() and ordered queues<br>+ ___Lab Exercise___: Unified Shared Memory | Yes |\n",
    "|[Lab 3: SYCL Sub Groups](04_SYCL_Sub_Groups/Sub_Groups.ipynb)| + What is Sub-Groups and Motivation<br>+ Querying for __sub-group info__<br>+ Sub-group __shuffle algorithms__<br>+ Sub-group __group algorithms__<br>+ ___Lab Exercise___: Sub-Groups | Yes |\n",
    "|[Lab 4: SYCL Local Memory And Atomics](05_SYCL_Local_Memory_And_Atomics/LocalMemory_Atomics.ipynb)| + Query Local memory type and size<br>+ Local memory and Group barriers<br>+ Local Accessor usage<br>+ Atomic Operations Buffers<br>+ Atomic Operations USM<br>+ ___Lab Exercise___: Atomic Operation | Yes|\n",
    "| Advanced Lab Exercises* |\n",
    "|[SYCL Kernel Reductions](08_SYCL_Reduction/Reductions.ipynb)|+ What are Reductions<br>+ Challenges with parallelizing reductions<br>+ __sycl::reduce_over_group__ function for sub-groups and work-groups<br>+ __sycl::reduction__ object in parallel_for<br>+ ___Lab Exercise___: Kernel Reductions | 90 min|\n",
    "|[SYCL Buffers and Accessors in depth](09_SYCL_Buffers_And_Accessors_Indepth/SYCL_Buffers_accessors.ipynb)| + Buffers and Accessors<br>+ Buffer properties and usecases<br>+ Create Sub-buffers<br>+ Host accessors and usecases<br>+ ___Lab Exercise___: Buffers and Accessors | 120 min |\n",
    "|[Intel® oneAPI DPC++ Library (oneDPL)](07_oneDPL_Library/oneDPL_Introduction.ipynb)| + Introduction to Intel oneAPI DPC++ Library (oneDPL)<br>+ ___Lab Exercise___: Gamma Correction with oneDPL | 120 min |\n",
    "|[Intel® Advisor](05_Intel_Advisor/offload_advisor.ipynb)| + __Offload Advisor__ Tool usage and command-line options<br>+ ___Lab Exercise___: Generate Offload Advisor Report<br>+ __Roofline Analysis__ and command-line options<br>+ ___Lab Exercise___: Generate Roofline Report | 120 min |\n",
    "|[Intel® VTune Profiler](06_Intel_VTune_Profiler/Intel_VTune_Profiler.ipynb)| + Intel VTune™ Profiler usage __in Intel DevCloud__ environment using command-line options<br>+ ___Lab Exercise___: VTune Profiling by collecting __gpu_hotspots__ for sample application. | 60 min |\n",
    "|[Intel® Distribution for GDB on DevCloud](11_Intel_Distribution_for_GDB/gdb_oneapi.ipynb)| + Use the Intel® Distribution for GDB to debug kernels running on GPUs. | 60 min |"
   ]
  },
  {
   "cell_type": "markdown",
   "id": "5e0872a2-80ba-49c5-bf7e-b03787b0740f",
   "metadata": {
    "tags": []
   },
   "source": [
    "# Resources\n",
    "- [SYCL Programming Course GitHub](https://github.com/oneapi-src/oneAPI-samples/tree/master/DirectProgramming/DPC%2B%2B/Jupyter/oneapi-essentials-training)\n",
    "- [SYCL Specification](https://www.khronos.org/registry/SYCL/specs/sycl-2020/pdf/sycl-2020.pdf)\n",
    "- [Intel oneAPI ToolKits Installation Guide](https://www.intel.com/content/www/us/en/developer/articles/guide/installation-guide-for-oneapi-toolkits.html)\n",
    "- [Intel Tiber AI Cloud Guide](https://console.cloud.intel.com/docs/index.html)"
   ]
  }
 ],
 "metadata": {
  "kernelspec": {
   "display_name": "Python 3 (ipykernel)",
   "language": "python",
   "name": "python3"
  },
  "language_info": {
   "codemirror_mode": {
    "name": "ipython",
    "version": 3
   },
   "file_extension": ".py",
   "mimetype": "text/x-python",
   "name": "python",
   "nbconvert_exporter": "python",
   "pygments_lexer": "ipython3",
   "version": "3.11.5"
  }
 },
 "nbformat": 4,
 "nbformat_minor": 5
}
